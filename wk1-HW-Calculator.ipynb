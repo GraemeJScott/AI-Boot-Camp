{
 "cells": [
  {
   "cell_type": "code",
   "execution_count": 19,
   "metadata": {},
   "outputs": [
    {
     "name": "stdout",
     "output_type": "stream",
     "text": [
      "Bad practice to divide by 0\n",
      "10.0 / 0.0 = None\n"
     ]
    }
   ],
   "source": [
    "# declare the calculator functions\n",
    "\n",
    "def add_two_numbers(a, b):\n",
    "    return a + b\n",
    "\n",
    "def subtract_two_numbers(a, b):\n",
    "    return a - b\n",
    "\n",
    "def multiply_two_numbers(a, b):\n",
    "    return a * b\n",
    "\n",
    "def divide_two_numbers(a, b):\n",
    "    if float(b) == 0:\n",
    "        print(\"Bad practice to divide by 0\")\n",
    "    else:    \n",
    "        return float(a) / float(b)\n",
    "\n",
    "def get_number(message):\n",
    "    a=input(message)\n",
    "    if a.isnumeric():\n",
    "        n=float(a)\n",
    "        return n\n",
    "    else:\n",
    "        # Check if a negative number was entered\n",
    "        if a[0]==\"-\" and len(a) > 1:\n",
    "            n=a[1:]\n",
    "            if n.isnumeric():\n",
    "                return float(0-float(n))\n",
    "            else:\n",
    "                print(\"Enter a valid number!\")\n",
    "\n",
    "\n",
    "def get_maths_operator(message):\n",
    "    op=input(message)\n",
    "    return op\n",
    "\n",
    "maths_operators = [\"+\", \"-\", \"*\", \"/\"]\n",
    "\n",
    "\n",
    "left_number = get_number(\"Enter the first number (left of the maths operator): \")\n",
    "maths_operator = get_maths_operator(\"Enter the maths operator [ + - * / ]: \")\n",
    "right_number = get_number(\"Enter the second number (right of the maths operator): \")\n",
    "\n",
    "\n",
    "if isinstance(left_number, int) or isinstance(left_number, float):\n",
    "    if maths_operator in maths_operators:\n",
    "        if isinstance(right_number, int) or isinstance(right_number, float):\n",
    "            if maths_operator == \"+\":\n",
    "                result = add_two_numbers(left_number, right_number)\n",
    "            elif maths_operator == \"-\":\n",
    "                result = subtract_two_numbers(left_number, right_number)\n",
    "            elif maths_operator == \"*\":\n",
    "                result = multiply_two_numbers(left_number, right_number)\n",
    "            else:\n",
    "                result = divide_two_numbers(left_number, right_number)            \n",
    "\n",
    "\n",
    "if ((isinstance(left_number, int) or isinstance(left_number, float)) \n",
    "    and (maths_operator in maths_operators) \n",
    "    and (isinstance(right_number, int) or isinstance(right_number, float))\n",
    "):    \n",
    "    print(str(left_number) + \" \" + maths_operator + \" \" + str(right_number) + \" = \" + str(result))\n",
    "else:\n",
    "    print(\"Try again....\")    "
   ]
  }
 ],
 "metadata": {
  "kernelspec": {
   "display_name": "Python 3",
   "language": "python",
   "name": "python3"
  },
  "language_info": {
   "codemirror_mode": {
    "name": "ipython",
    "version": 3
   },
   "file_extension": ".py",
   "mimetype": "text/x-python",
   "name": "python",
   "nbconvert_exporter": "python",
   "pygments_lexer": "ipython3",
   "version": "3.12.0"
  }
 },
 "nbformat": 4,
 "nbformat_minor": 2
}
